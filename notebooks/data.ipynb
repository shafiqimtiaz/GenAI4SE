{
 "cells": [
  {
   "cell_type": "code",
   "execution_count": 1,
   "metadata": {},
   "outputs": [],
   "source": [
    "import pandas as pd"
   ]
  },
  {
   "cell_type": "code",
   "execution_count": 2,
   "metadata": {},
   "outputs": [],
   "source": [
    "def filterData(df, minTokens = 7):\n",
    "    df['src_javadoc_token_count'] = df['src_javadoc'].apply(lambda x : len(x.split()))\n",
    "    df['dst_javadoc_token_count'] = df['dst_javadoc'].apply(lambda x : len(x.split()))\n",
    "\n",
    "    df = df[df[\"src_javadoc_token_count\"] > minTokens]\n",
    "    df = df[df[\"dst_javadoc_token_count\"] > minTokens]\n",
    "\n",
    "    return df"
   ]
  },
  {
   "cell_type": "code",
   "execution_count": 11,
   "metadata": {},
   "outputs": [
    {
     "name": "stdout",
     "output_type": "stream",
     "text": [
      "(85657, 8)\n"
     ]
    },
    {
     "data": {
      "text/html": [
       "<div>\n",
       "<style scoped>\n",
       "    .dataframe tbody tr th:only-of-type {\n",
       "        vertical-align: middle;\n",
       "    }\n",
       "\n",
       "    .dataframe tbody tr th {\n",
       "        vertical-align: top;\n",
       "    }\n",
       "\n",
       "    .dataframe thead th {\n",
       "        text-align: right;\n",
       "    }\n",
       "</style>\n",
       "<table border=\"1\" class=\"dataframe\">\n",
       "  <thead>\n",
       "    <tr style=\"text-align: right;\">\n",
       "      <th></th>\n",
       "      <th>sample_id</th>\n",
       "      <th>full_name</th>\n",
       "      <th>commit_id</th>\n",
       "      <th>src_method</th>\n",
       "      <th>dst_method</th>\n",
       "      <th>src_javadoc</th>\n",
       "      <th>dst_javadoc</th>\n",
       "      <th>diff</th>\n",
       "    </tr>\n",
       "  </thead>\n",
       "  <tbody>\n",
       "    <tr>\n",
       "      <th>0</th>\n",
       "      <td>3055905</td>\n",
       "      <td>opennetworkinglab/onos</td>\n",
       "      <td>4ae5aa8b207090bfc9776dd802d4ada04b732d00</td>\n",
       "      <td>public Interface getInterface() {\\n        ret...</td>\n",
       "      <td>public Interface getInterface() {\\n        ret...</td>\n",
       "      <td>Get the PIM Interface.</td>\n",
       "      <td>Return the ONOS Interface.</td>\n",
       "      <td>--- \\n\\n+++ \\n\\n@@ -1,3 +1,3 @@\\n\\n public Int...</td>\n",
       "    </tr>\n",
       "  </tbody>\n",
       "</table>\n",
       "</div>"
      ],
      "text/plain": [
       "   sample_id               full_name  \\\n",
       "0    3055905  opennetworkinglab/onos   \n",
       "\n",
       "                                  commit_id  \\\n",
       "0  4ae5aa8b207090bfc9776dd802d4ada04b732d00   \n",
       "\n",
       "                                          src_method  \\\n",
       "0  public Interface getInterface() {\\n        ret...   \n",
       "\n",
       "                                          dst_method             src_javadoc  \\\n",
       "0  public Interface getInterface() {\\n        ret...  Get the PIM Interface.   \n",
       "\n",
       "                  dst_javadoc  \\\n",
       "0  Return the ONOS Interface.   \n",
       "\n",
       "                                                diff  \n",
       "0  --- \\n\\n+++ \\n\\n@@ -1,3 +1,3 @@\\n\\n public Int...  "
      ]
     },
     "execution_count": 11,
     "metadata": {},
     "output_type": "execute_result"
    }
   ],
   "source": [
    "train = pd.read_csv(\"train_preprocessed.csv\")\n",
    "print(train.shape)\n",
    "train.head(1)"
   ]
  },
  {
   "cell_type": "code",
   "execution_count": 21,
   "metadata": {},
   "outputs": [],
   "source": [
    "pd.set_option('display.max_colwidth', 300)\n",
    "example = train[['src_method','dst_method','src_javadoc','dst_javadoc', 'diff']].sample(1).transpose()"
   ]
  },
  {
   "cell_type": "code",
   "execution_count": 23,
   "metadata": {},
   "outputs": [],
   "source": [
    "example = example.rename({'src_javadoc':'old_comment','src_method':'old_code','dst_method':'new_code','dst_javadoc':'new_comment'})\n",
    "example.to_clipboard(excel=True)"
   ]
  },
  {
   "cell_type": "code",
   "execution_count": 24,
   "metadata": {},
   "outputs": [
    {
     "data": {
      "text/html": [
       "<div>\n",
       "<style scoped>\n",
       "    .dataframe tbody tr th:only-of-type {\n",
       "        vertical-align: middle;\n",
       "    }\n",
       "\n",
       "    .dataframe tbody tr th {\n",
       "        vertical-align: top;\n",
       "    }\n",
       "\n",
       "    .dataframe thead th {\n",
       "        text-align: right;\n",
       "    }\n",
       "</style>\n",
       "<table border=\"1\" class=\"dataframe\">\n",
       "  <thead>\n",
       "    <tr style=\"text-align: right;\">\n",
       "      <th></th>\n",
       "      <th>79449</th>\n",
       "    </tr>\n",
       "  </thead>\n",
       "  <tbody>\n",
       "    <tr>\n",
       "      <th>old_code</th>\n",
       "      <td>private static BRefValueArray convertArrayToJSON(BFloatArray floatArray) {\\n        BRefValueArray json = new BRefValueArray(new BArrayType(BTypes.typeJSON));\\n        for (int i = 0; i &lt; floatArray.size(); i++) {\\n            double value = floatArray.get(i);\\n            json.append(new BFloat...</td>\n",
       "    </tr>\n",
       "    <tr>\n",
       "      <th>new_code</th>\n",
       "      <td>private static BValueArray convertFloatArrayToJSON(BValueArray floatArray) {\\n        BValueArray json = new BValueArray(new BArrayType(BTypes.typeJSON));\\n        for (int i = 0; i &lt; floatArray.size(); i++) {\\n            double value = floatArray.getFloat(i);\\n            json.append(new BFloa...</td>\n",
       "    </tr>\n",
       "    <tr>\n",
       "      <th>old_comment</th>\n",
       "      <td>Convert {@link BFloatArray} to JSON.</td>\n",
       "    </tr>\n",
       "    <tr>\n",
       "      <th>new_comment</th>\n",
       "      <td>Convert {@link BValueArray} to JSON.</td>\n",
       "    </tr>\n",
       "    <tr>\n",
       "      <th>diff</th>\n",
       "      <td>--- \\n\\n+++ \\n\\n@@ -1,7 +1,7 @@\\n\\n-private static BRefValueArray convertArrayToJSON(BFloatArray floatArray) {\\n-        BRefValueArray json = new BRefValueArray(new BArrayType(BTypes.typeJSON));\\n+private static BValueArray convertFloatArrayToJSON(BValueArray floatArray) {\\n+        BValueArray...</td>\n",
       "    </tr>\n",
       "  </tbody>\n",
       "</table>\n",
       "</div>"
      ],
      "text/plain": [
       "                                                                                                                                                                                                                                                                                                                   79449\n",
       "old_code     private static BRefValueArray convertArrayToJSON(BFloatArray floatArray) {\\n        BRefValueArray json = new BRefValueArray(new BArrayType(BTypes.typeJSON));\\n        for (int i = 0; i < floatArray.size(); i++) {\\n            double value = floatArray.get(i);\\n            json.append(new BFloat...\n",
       "new_code     private static BValueArray convertFloatArrayToJSON(BValueArray floatArray) {\\n        BValueArray json = new BValueArray(new BArrayType(BTypes.typeJSON));\\n        for (int i = 0; i < floatArray.size(); i++) {\\n            double value = floatArray.getFloat(i);\\n            json.append(new BFloa...\n",
       "old_comment                                                                                                                                                                                                                                                                         Convert {@link BFloatArray} to JSON.\n",
       "new_comment                                                                                                                                                                                                                                                                         Convert {@link BValueArray} to JSON.\n",
       "diff         --- \\n\\n+++ \\n\\n@@ -1,7 +1,7 @@\\n\\n-private static BRefValueArray convertArrayToJSON(BFloatArray floatArray) {\\n-        BRefValueArray json = new BRefValueArray(new BArrayType(BTypes.typeJSON));\\n+private static BValueArray convertFloatArrayToJSON(BValueArray floatArray) {\\n+        BValueArray..."
      ]
     },
     "execution_count": 24,
     "metadata": {},
     "output_type": "execute_result"
    }
   ],
   "source": [
    "example"
   ]
  },
  {
   "cell_type": "code",
   "execution_count": 10,
   "metadata": {},
   "outputs": [
    {
     "data": {
      "text/plain": [
       "(52265, 10)"
      ]
     },
     "execution_count": 10,
     "metadata": {},
     "output_type": "execute_result"
    }
   ],
   "source": [
    "filteredTrain = filterData(train, minTokens=10)\n",
    "# filteredTrain = filteredTrain.sample(8000)\n",
    "filteredTrain.shape"
   ]
  },
  {
   "cell_type": "code",
   "execution_count": 5,
   "metadata": {},
   "outputs": [
    {
     "name": "stdout",
     "output_type": "stream",
     "text": [
      "(9475, 8)\n"
     ]
    },
    {
     "data": {
      "text/html": [
       "<div>\n",
       "<style scoped>\n",
       "    .dataframe tbody tr th:only-of-type {\n",
       "        vertical-align: middle;\n",
       "    }\n",
       "\n",
       "    .dataframe tbody tr th {\n",
       "        vertical-align: top;\n",
       "    }\n",
       "\n",
       "    .dataframe thead th {\n",
       "        text-align: right;\n",
       "    }\n",
       "</style>\n",
       "<table border=\"1\" class=\"dataframe\">\n",
       "  <thead>\n",
       "    <tr style=\"text-align: right;\">\n",
       "      <th></th>\n",
       "      <th>sample_id</th>\n",
       "      <th>full_name</th>\n",
       "      <th>commit_id</th>\n",
       "      <th>src_method</th>\n",
       "      <th>dst_method</th>\n",
       "      <th>src_javadoc</th>\n",
       "      <th>dst_javadoc</th>\n",
       "      <th>diff</th>\n",
       "    </tr>\n",
       "  </thead>\n",
       "  <tbody>\n",
       "    <tr>\n",
       "      <th>0</th>\n",
       "      <td>5243791</td>\n",
       "      <td>sleuthkit/autopsy</td>\n",
       "      <td>6130def6fda2188dcbf619612a7a1083385e233c</td>\n",
       "      <td>public static void writeCaseNodeData(CaseNodeD...</td>\n",
       "      <td>public static void writeCaseNodeData(CaseNodeD...</td>\n",
       "      <td>Writes updated case data to a case directory c...</td>\n",
       "      <td>Writes case data to a case directory coordinat...</td>\n",
       "      <td>--- \\n\\n+++ \\n\\n@@ -1,7 +1,7 @@\\n\\n public sta...</td>\n",
       "    </tr>\n",
       "  </tbody>\n",
       "</table>\n",
       "</div>"
      ],
      "text/plain": [
       "   sample_id          full_name                                 commit_id  \\\n",
       "0    5243791  sleuthkit/autopsy  6130def6fda2188dcbf619612a7a1083385e233c   \n",
       "\n",
       "                                          src_method  \\\n",
       "0  public static void writeCaseNodeData(CaseNodeD...   \n",
       "\n",
       "                                          dst_method  \\\n",
       "0  public static void writeCaseNodeData(CaseNodeD...   \n",
       "\n",
       "                                         src_javadoc  \\\n",
       "0  Writes updated case data to a case directory c...   \n",
       "\n",
       "                                         dst_javadoc  \\\n",
       "0  Writes case data to a case directory coordinat...   \n",
       "\n",
       "                                                diff  \n",
       "0  --- \\n\\n+++ \\n\\n@@ -1,7 +1,7 @@\\n\\n public sta...  "
      ]
     },
     "execution_count": 5,
     "metadata": {},
     "output_type": "execute_result"
    }
   ],
   "source": [
    "eval = pd.read_csv(\"eval_preprocessed.csv\")\n",
    "print(eval.shape)\n",
    "eval.head(1)"
   ]
  },
  {
   "cell_type": "code",
   "execution_count": 6,
   "metadata": {},
   "outputs": [
    {
     "data": {
      "text/plain": [
       "(5867, 10)"
      ]
     },
     "execution_count": 6,
     "metadata": {},
     "output_type": "execute_result"
    }
   ],
   "source": [
    "filteredEval = filterData(eval, minTokens=10)\n",
    "# filteredEval = filteredEval.sample(800)\n",
    "filteredEval.shape"
   ]
  },
  {
   "cell_type": "code",
   "execution_count": 7,
   "metadata": {},
   "outputs": [
    {
     "name": "stdout",
     "output_type": "stream",
     "text": [
      "(8215, 8)\n"
     ]
    },
    {
     "data": {
      "text/html": [
       "<div>\n",
       "<style scoped>\n",
       "    .dataframe tbody tr th:only-of-type {\n",
       "        vertical-align: middle;\n",
       "    }\n",
       "\n",
       "    .dataframe tbody tr th {\n",
       "        vertical-align: top;\n",
       "    }\n",
       "\n",
       "    .dataframe thead th {\n",
       "        text-align: right;\n",
       "    }\n",
       "</style>\n",
       "<table border=\"1\" class=\"dataframe\">\n",
       "  <thead>\n",
       "    <tr style=\"text-align: right;\">\n",
       "      <th></th>\n",
       "      <th>sample_id</th>\n",
       "      <th>full_name</th>\n",
       "      <th>commit_id</th>\n",
       "      <th>src_method</th>\n",
       "      <th>dst_method</th>\n",
       "      <th>src_javadoc</th>\n",
       "      <th>dst_javadoc</th>\n",
       "      <th>diff</th>\n",
       "    </tr>\n",
       "  </thead>\n",
       "  <tbody>\n",
       "    <tr>\n",
       "      <th>0</th>\n",
       "      <td>6019740</td>\n",
       "      <td>lessthanoptimal/BoofCV</td>\n",
       "      <td>ffb204fd753b92df3a82d37720561e9c89e019d2</td>\n",
       "      <td>public void process(T gray, GrayU8 binary) {\\n...</td>\n",
       "      <td>public void process(T gray, GrayU8 binary) {\\n...</td>\n",
       "      <td>Examines the undistorted gray scake input imag...</td>\n",
       "      <td>Examines the undistorted gray scale input imag...</td>\n",
       "      <td>--- \\n\\n+++ \\n\\n@@ -1,7 +1,15 @@\\n\\n public vo...</td>\n",
       "    </tr>\n",
       "  </tbody>\n",
       "</table>\n",
       "</div>"
      ],
      "text/plain": [
       "   sample_id               full_name  \\\n",
       "0    6019740  lessthanoptimal/BoofCV   \n",
       "\n",
       "                                  commit_id  \\\n",
       "0  ffb204fd753b92df3a82d37720561e9c89e019d2   \n",
       "\n",
       "                                          src_method  \\\n",
       "0  public void process(T gray, GrayU8 binary) {\\n...   \n",
       "\n",
       "                                          dst_method  \\\n",
       "0  public void process(T gray, GrayU8 binary) {\\n...   \n",
       "\n",
       "                                         src_javadoc  \\\n",
       "0  Examines the undistorted gray scake input imag...   \n",
       "\n",
       "                                         dst_javadoc  \\\n",
       "0  Examines the undistorted gray scale input imag...   \n",
       "\n",
       "                                                diff  \n",
       "0  --- \\n\\n+++ \\n\\n@@ -1,7 +1,15 @@\\n\\n public vo...  "
      ]
     },
     "execution_count": 7,
     "metadata": {},
     "output_type": "execute_result"
    }
   ],
   "source": [
    "test = pd.read_csv(\"test_preprocessed.csv\")\n",
    "print(test.shape)\n",
    "test.head(1)"
   ]
  },
  {
   "cell_type": "code",
   "execution_count": 8,
   "metadata": {},
   "outputs": [
    {
     "data": {
      "text/plain": [
       "(6175, 10)"
      ]
     },
     "execution_count": 8,
     "metadata": {},
     "output_type": "execute_result"
    }
   ],
   "source": [
    "filteredTest = filterData(test, minTokens=10)\n",
    "# filteredTest = filteredTest.sample(800)\n",
    "filteredTest.shape"
   ]
  },
  {
   "cell_type": "code",
   "execution_count": 9,
   "metadata": {},
   "outputs": [],
   "source": [
    "filteredTrain.to_csv('gemma/50k-samples/train_preprocessed.csv', index=False)\n",
    "filteredEval.to_csv('gemma/50k-samples/eval_preprocessed.csv', index=False)\n",
    "filteredTest.to_csv('gemma/50k-samples/test_preprocessed.csv', index=False)"
   ]
  },
  {
   "cell_type": "code",
   "execution_count": null,
   "metadata": {},
   "outputs": [],
   "source": []
  }
 ],
 "metadata": {
  "kernelspec": {
   "display_name": ".venv",
   "language": "python",
   "name": "python3"
  },
  "language_info": {
   "codemirror_mode": {
    "name": "ipython",
    "version": 3
   },
   "file_extension": ".py",
   "mimetype": "text/x-python",
   "name": "python",
   "nbconvert_exporter": "python",
   "pygments_lexer": "ipython3",
   "version": "3.9.13"
  }
 },
 "nbformat": 4,
 "nbformat_minor": 2
}
